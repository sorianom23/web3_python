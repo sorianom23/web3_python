{
 "cells": [
  {
   "cell_type": "code",
   "execution_count": 1,
   "metadata": {},
   "outputs": [],
   "source": [
    "import web3 as Web3\n",
    "from config import *"
   ]
  },
  {
   "cell_type": "markdown",
   "metadata": {},
   "source": [
    "### Connecting with the Ethereum Network trhough Python with Web3\n",
    "I will:\n",
    "- Initialize the connection\n",
    "- Retrieve latest block produced in the eth network\n",
    "- Retrieve balance from a given eth address"
   ]
  },
  {
   "cell_type": "code",
   "execution_count": 2,
   "metadata": {},
   "outputs": [],
   "source": [
    "# Initialize connection to the Ethereum network trhough Python\n",
    "web3_connection = Web3(Web3.HTTPProvider(node_provider)) \n",
    "\n",
    "# Function that tells us if we are connected or not\n",
    "def connection():\n",
    "    print(web3_connection.isConnected())"
   ]
  },
  {
   "cell_type": "code",
   "execution_count": 3,
   "metadata": {},
   "outputs": [
    {
     "name": "stdout",
     "output_type": "stream",
     "text": [
      "True\n"
     ]
    }
   ],
   "source": [
    "connection()"
   ]
  },
  {
   "cell_type": "code",
   "execution_count": 4,
   "metadata": {},
   "outputs": [],
   "source": [
    "# Retrieve the latest block produced by the eth network\n",
    "def last_block():\n",
    "    print(web3_connection.eth.block_number)"
   ]
  },
  {
   "cell_type": "code",
   "execution_count": 5,
   "metadata": {},
   "outputs": [
    {
     "name": "stdout",
     "output_type": "stream",
     "text": [
      "14944813\n"
     ]
    }
   ],
   "source": [
    "last_block()"
   ]
  },
  {
   "cell_type": "code",
   "execution_count": 6,
   "metadata": {},
   "outputs": [],
   "source": [
    "def last_block_metadata():\n",
    "    print(web3_connection.eth.get_block('latest'))"
   ]
  },
  {
   "cell_type": "code",
   "execution_count": 8,
   "metadata": {},
   "outputs": [
    {
     "name": "stdout",
     "output_type": "stream",
     "text": [
      "AttributeDict({'baseFeePerGas': 31779183359, 'difficulty': 14910376893913552, 'extraData': HexBytes('0xe4b883e5bda9e7a59ee4bb99e9b1bc472821'), 'gasLimit': 30000000, 'gasUsed': 13897559, 'hash': HexBytes('0x4fbb3cb111b058139fab779c72a0931774d10a1bceb002b2b6945510dc1bb5c9'), 'logsBloom': HexBytes('0x40681722a9481865fab0498c90570726566a824d815304711209714b9682ad2102ac395dc003f3880122df86d101010347543c04d992bd0c56673c04083a7643041808115414460c6b46630d6220ea60fd81c0810fc8b287d846d405914d7e1292818682420044a2132c420d0cbd2a8a44309710a18845a8c2501297584d32d6a996e5410370b00f42cfa1daa87125430c214c934102b0581d313161c0f5501723891273b92f7c6daa82d0d21d000dce20056aa1901080fa6238972c561bab42c1f24532018aef702608b2216a76d40687438a61564a211994214156c392283038b6a11f49404c4d05231500892458100581e389ec4291c063ca0f9100b070a2'), 'miner': '0x829BD824B016326A401d083B33D092293333A830', 'mixHash': HexBytes('0x123c03db528f425ff92dea23cc1dab1ab7844a2fdeefd50dad02b6020ed367d1'), 'nonce': HexBytes('0xc878c89ab17bdf17'), 'number': 14944820, 'parentHash': HexBytes('0x6d9193c18823660cb17cd4cbd22416b8e585fe46ada1ab4f1037a8cb8c498f07'), 'receiptsRoot': HexBytes('0xee7a54fb6e017057e88ce82a202081f28e7e3d9564d2cb0aeb407fa93e5bb1c6'), 'sha3Uncles': HexBytes('0x1dcc4de8dec75d7aab85b567b6ccd41ad312451b948a7413f0a142fd40d49347'), 'size': 42239, 'stateRoot': HexBytes('0x2074602f5749970ab65aad06091131dbbde1d402567be4a6af39296ccd91f165'), 'timestamp': 1654958380, 'totalDifficulty': 51432927787074507178074, 'transactions': [HexBytes('0x473e5309e3c1634b573bc04580604990eadffcf269796a99d0edebf0335df6a3'), HexBytes('0x76f15bf882a611e0f9b0cb0258f91adb4b625ed877af13885a65bcb249b8b839'), HexBytes('0x761eb71ab7eece6277e7b8236c6cf54c59ea1b560e09c73666e71512370268a3'), HexBytes('0xb22d9289229737ad651f0866a04a521f3dcb4d80f0311eecfab82795c914e3a6'), HexBytes('0x4d70f64966889016a86057369aef716a74a91a966a34a18cf70d06bb09195c30'), HexBytes('0xd82bae7aa5037281d0ddab15c379124674d85c5afae53cccf917b85b1c4186e5'), HexBytes('0x67a6c00ccc024afd5d23d346aa6a8cdeaad58a6874182412d039ec3c5c64928d'), HexBytes('0xf5a015cd1d9f46491fd49da7a3ca9bdb253a9db5c3153532143b5ed4c52c7441'), HexBytes('0xc78e310ff45971ee9873f9458a7318c20698f23d34d55d8403847dcb16e62b14'), HexBytes('0xddf277141cffdedc4e74f1e9576ae834b088c0928a531150e7c5d0b0db6ad2f7'), HexBytes('0xa382266f12904c4ebc9f9687b1d0507242cd02eba83f81ab5a5b63731b89bfc1'), HexBytes('0xd101fd768f176ab9bef1a2fc608999a58299b49822b0ab7d1c5fc2e7d5a2a194'), HexBytes('0x8eea2e1c07a57986031f55581256de12982fc99ae57b1e44bcc6c9eea07213af'), HexBytes('0xaa3ba1dcad0a81e4155b00993db95f8dbf1b4fb93ee9df20ac3a6e54f76aa62f'), HexBytes('0x017ff90721a2fa5b326bec8e4d39383c273ccaf544d272f2bef58b723c07d71b'), HexBytes('0x23084ff019d0611b47e9663e64963aae1c9a6d273445a27e612a1fb6518518ea'), HexBytes('0xe27eb147f6dba1751a364b7a933640bcc00a5bac35326ede1b294bf0dab886e5'), HexBytes('0x8a06860d68fe75cac724a8d5799f65e854524f6b83c92255e5d460fecf31ddbb'), HexBytes('0xe791327e13eeec160150bf9bf41aeb2ac86df7094e0ed6e80a3c1bb84ef7c45f'), HexBytes('0xb649c5e8dd11d0bcbf73be63d1d69a73d01bf1fb2ab08a0fa09efd287efef799'), HexBytes('0xd11bae163564bb4cc300d558e640c8f3826de4838852a06bb6dfc27359b12dcf'), HexBytes('0x34d5c091c6b301a1e7990cd49917290a0641febe9c4764a39c7306bc76d2b1f4'), HexBytes('0x07e52b8a183b49e858948d54af84f88796c1da6994963c36480ce4b4ccd2ed78'), HexBytes('0x2a2ce1d323a7cb2b7ea291547e73dab88c40181ed5a6cb6167b0f44d7c0057cb'), HexBytes('0x25ccf31780c168fe27a59c1ccfc55c364150217bea07845a9013a787c9840115'), HexBytes('0x6b5515ce8aff7a74fe23e175d2d8c17697978258098f170078272febad84f73a'), HexBytes('0xf7b2a4b731d175e8482294c37f28021194aa427f6934c089d13cd684dd719a82'), HexBytes('0xbef8e9740adacd998e2ac272ae5a2fd55874522fcfa7c9e61bde1e6bb74d3a6e'), HexBytes('0xea87f23fdbc29bdc65857eff2dd9534ca5e5fa12a60b4391b7a7518aad25d341'), HexBytes('0x14a0492384b3598e166048a43ea1ea26543da5f99e316ea6c36b4a8eb9d51761'), HexBytes('0xf6e7c440a161e9cbce6d91d9a108f35f406ee7c1551edb1a07478db27d1bf569'), HexBytes('0xb288c6abf75252cbafa3ae3cc530b87fee64c57cca014d2b63d21525d7dad39a'), HexBytes('0x38a0fa4edad04f5ba0a3a06ae679b9e0a9061ec1506125bdbacfb9e7f836f4a5'), HexBytes('0xcf42a2078df322b13cdabb43588987d7ea0f57f78bae4d1a686f88f77175e11e'), HexBytes('0x7dbca28623118c0ad857e4fcc45c85acb8fb34f48b298d29abb78149f28283d0'), HexBytes('0x5e8647c078fa12ff94a17ff0d19d368c15919f6c53f1c0966eb775b83bc027a1'), HexBytes('0x0e2794b346a1604c37a3c5642d50e3aa7c43c384ee5686420ba4f642a1ba7232'), HexBytes('0x4c27a15258ef6225b019063db1c04af9023644aec8d4a9a3072a822a60d6298a'), HexBytes('0x26d9217af45acbba67ae5a49234b265563858b9be596ecf0c16a59e958e901d6'), HexBytes('0x199670499404255e42be29ee2266002b63b76f7f88c4185c1dcf4c38eb121bd3'), HexBytes('0x9266e1a35c17eb288f831ac47aeb9c8fd8f3febb6e15eb3cc2a363ae51019823'), HexBytes('0xbf0f60b9662697ad18769616b1f8b15cc972b89ac4052611061c7f571533d314'), HexBytes('0x82934b1413ea836d1f48ba3a606c871d263ef80f92ccc0e2e1c7685e863d8f7f'), HexBytes('0xb08747756d7e2e1310ee528c3a703df52c81521e2339ee43640462ae0332cc20'), HexBytes('0xd322ed79a6ffbef1f412f81eea39b3b9fa9e99f825a150342e51de4b56b3e311'), HexBytes('0xdfbf8264afa75a7c1a0ab749268f616ff67d41bb7f62ac509045e52ff057626d'), HexBytes('0x9b65a95db55f81a9dc7b26b16b083cbf0cf86dca6f53a3ff45d234c89004aeb6'), HexBytes('0x12c09aa32e391936285c09569535e3845fcedb72b4335a07e397aac4d13bed62'), HexBytes('0xadc6dd29618a35220fa2adca70f75c1bf67b38e2ef13f0d9396202ee53a18a7d'), HexBytes('0x11193ae60f3b1f9670cae393675207d0fee77ca16b1344734c09c4aeb8a58430'), HexBytes('0x3c5275acda9357db2575d281b955e7f7c5780b3edf1abdb3b058875aa5829e2f'), HexBytes('0xfd03bb9e4af99786ceab45e28594a340384135e8ccf66fef8a24aa18111c79c9'), HexBytes('0x4ab363f8fa7c00365ba0d709894a11c8a728be42ec4068eba1f66dd8640f9fdc'), HexBytes('0xc5511f805ac76ffdccc7acb8d9ee999ae858957c4ffa21e3a20593dadefcc2c6'), HexBytes('0xb8077e9ab626fb669ae953321037cace4153e6c7c80829b2e49eae2667ea6737'), HexBytes('0xd1b28c06b450ceb5d60fbf0b58e82d70bde51c447ff5428ad33149b224c1bc52'), HexBytes('0xa227fbbeeb33bee0159d8619ff31c32ecf035c38f7374f1e86d29d9b6b554156'), HexBytes('0x69da908bde89e692c4d5facac1f84999b25d084bf14821c2e218b24375bfdd05'), HexBytes('0x76751d394433f1f2454e520a48325c353700260975dbbc4666240906f2c87a58'), HexBytes('0x2f14985126b2f75316dd861ecafc40a4c6e854282492c48749cd21f6f352a3c8'), HexBytes('0x3afdc9e4d86782ea0f28200c6362b12a5be77a49e2425039893ba146c2f5459d'), HexBytes('0xf1a055a9261df2e5cb633a377e6de9aea1a88713f60e667cdafed572ea55dd3c'), HexBytes('0x76be7a087ce6b4ab5f40c48cd6eb4ab00ae0c0545aa4b4f440a69b35a01911d8'), HexBytes('0x123ee2e55a6c95ccd1d57688a08c3d3ff655752423c514e301ca9a09333cf1d5'), HexBytes('0x60c2e9a2476693a3a7bccf20b636e2a305eaa957b9df8eecdf7422269d22d951'), HexBytes('0x1814c1758398272a96a19ad65d3cce9e4653761a01e0ba1919b02fb80c016564'), HexBytes('0x4d1f6649ab05195fcdb4b5c0145e89990fec41ae4d0b0f3522329bf62f80aa50'), HexBytes('0x9e551f0aa3119e6a932814a748bba0bffe748cd2b05d3042e29c1477992c8a4c'), HexBytes('0x38b7456130777962f3211570b471295938cacf84b340b90cd268a926b09e64bb'), HexBytes('0xc6d9a82ac11cd267dc8a36add2da6a56132e6f397dd7911168a156913df80773'), HexBytes('0x4d0b32294403c4bc1787ca51f198f373a78233e2ba8c4d70bc4d9295643f52cc'), HexBytes('0xd6ac9a6006cadf7430361cda9eb36702435616e48957d5db66430feafd0fb1f1'), HexBytes('0x0af773604696fd6777e0363d1940dee3d7e9b99bb509dd9dddefe024978ea721'), HexBytes('0xf57608c003a09cae18cdb969bddd36e1b0bb6620e201b4a2e90b940aa9d96d75'), HexBytes('0x1c0b61f6b330d943a5528bd29737c92cd5f0a5f88d9e8b15c9f160b28670a397'), HexBytes('0xdb453953d7604cd15e50e0a7cfd650c03575c96a7619350e6c72c4de4e920516'), HexBytes('0x87e0e23ac44dcbe5bd0749be88a59608120a95e71cac2537bfce279004650269'), HexBytes('0x56415f2291e3789922c3506f16f2ef11cae4d4e5c6ab783932e97d179c588751'), HexBytes('0x851da59ef482454e61650a10216a31083f379aef9e2163762c79edad6aa25ba4'), HexBytes('0x3711407d0e14d94bb724a6a74f6638a9112bc9280b4d45ba20a8c8b0111c01ad'), HexBytes('0xf7eb9f4f375303b61b5ce8dd2f5319e8be24189cadf35c926b7f76b98de4a375'), HexBytes('0x0af941ac72d2cfb58723cf6145b560acb6ed0ed88a12ff14a95906647960ed5b'), HexBytes('0x595dd2b0adc0fc8f4e6cde3fd15959a8a6c60a862fd515d79e4502cb025a41ce'), HexBytes('0xda67967faa03ba0665aadf182c4f8b193541cd0fe1447f35ab9dc1ebecaf3eb8'), HexBytes('0x33b3f23e17208bceae8c402600b10d06ddefc157cbab750abb21b84dbdf5064d'), HexBytes('0x096c9737afc579d57c85466dd0f8711f28e5beb59a761f96532844c21d9b1928'), HexBytes('0xb556a2e63e0cb830592cd60d03d43e78f5665e841e731c9a131b74dbea1d8764'), HexBytes('0xabb98795553089891c920675d0e2d109788b1d0809e6ab94c795e5bcad13046b'), HexBytes('0x8560d81253b5943b74dbd8b2e93ed7dd2602d85d0d4f2e09d98b736a7163bf43'), HexBytes('0xff62a62debe295227e15bd29e5a708cceda1ae3f3141d88dd3e6dd4727fc2ef9'), HexBytes('0x2d81d0c53404a93724327cc851964cc14cf3a6aac49b14c17f503ddc6fde29d6'), HexBytes('0xda9e263173b2935eb38608be9d5578c94647de24b22639fee76898ebe453fbd3'), HexBytes('0x6921fc3f20d630e3cc5f30a0a2ee5ec0774735b6bfa07d71f87eb0e765f019a7'), HexBytes('0xda03be7dbd5c6119f74e1689f124c6f3be53ea0e8b210d2ff930e9e0256e044a'), HexBytes('0xbb0c88bcab0f1a9fb8661cbe7f2f15c5ef2938624e3dcb3e5c9e231d4a754583'), HexBytes('0xf47c83b0894a7650c5cf78e9e7c112468df3046ecfc796eab63e730ee9baf40d'), HexBytes('0x1c1bc8db2ad3d7f2ce1a58ad29fc852367d1dc37f345e6bec3f60cf54a2ffd91'), HexBytes('0x0a53ac5ab8144d8625287c7ac95383b48c4a441e1cb97b23f13c3b2ddad89438'), HexBytes('0xb24776a179f915a504afd8d050a83105e9fd08b7103c2887f86822db91d633d8'), HexBytes('0xfb3777900ff999097d467a640889aa9d0aae20dee75c426941ef60e356a29565'), HexBytes('0xaf23a8906afda8b3689aa8a933644c34144fde9fcea30e3eb1d2d1bb93a76b3a'), HexBytes('0x98dcf072cfd0eec476b7246c1471e46a739a8f76f537096743de871c250ac27d'), HexBytes('0xd9bd135bcbe7dff28da10f24a2485d3ca6369d28f21355be623ee95254fa8bd9'), HexBytes('0x2bab66b9dbab5978c5ed1b41f1bc341e8191d650f63f6a955382dc2693236b49'), HexBytes('0x3d7bfc7a4b66c15615e0bd9b612b9a93e17aec6a98984596fbda88875f9f2222'), HexBytes('0xb2793747c7b60937d44524a7f96ad0148392c2e1f24d294c050ded52c7bf0d87'), HexBytes('0x8d798e7b88d114c485eb84678ee023c8ffa07f1336092102aad45fd8eb5e0dc3'), HexBytes('0x57b0cf5847e670017a10cc1818bae706b8941688e1a0230ac33f9e097df23317'), HexBytes('0x24fb33c4dea867c71d5a1809c5b18faf0788e608205005cf77ef97959bd040d1'), HexBytes('0x13c6108d8a1c4045952e23cc9fdde09db54cbd57aa961f98b387a2e269e8148c'), HexBytes('0x69f4a12026ea72ce584ca62324364a16ae177151a13b62f1b7f32732b6f5bc2c'), HexBytes('0x23acc05d4eb34b4e051afd0b0f2f2c87557c62f7b4af1eec743d4e0b1b043a34'), HexBytes('0xdf6adcb9adf74cbedf2c8438322efcd95e3505c0f7e2dfdd40c61077ae0ee0e6'), HexBytes('0x9baa87c5c46e2a8421ec021885fff8b62468e70090b5ece33295efe3e847421f'), HexBytes('0xe711cc11cb3cffbf885702f5acfbba03b8518a318340b989cab8eb547d74523a'), HexBytes('0x5231774697075ac8eee9f2a357f248cdb654af3ea149da3b4dc95ba3284fc8ae'), HexBytes('0x68c61621d67a0ae605dd9d0f3ebe86a89b7d81bd45a9bc65e0a7386cc16f0b93'), HexBytes('0x62f116be31013f346344d2c1edf11b7548b32fdd045c98a2a51fb1f53904d23c'), HexBytes('0xcbc6cee52c19032277022a9fb21dcb75cacb97c640fc32c4eece3e141f893d6f'), HexBytes('0x38872a566bab2266bf368e2af88e615dd4a55a2d199cfaf6d4ff143945f5d098'), HexBytes('0x25c61e780668d07bb1f40d0d90391649a68f691fd48a26de56e7b107beaf4996'), HexBytes('0x84c3200cf4486060fc34c014262e5754d5a28ad3657adad214d28169a0b16329'), HexBytes('0xff6bbdfdcb19b240887964e45e430db29cf2ac4a6f1929b02c7471aa0e46f507'), HexBytes('0xf5ed9d97d5a5ef3ddf991bb19ea5c01aa3a53c67709da775cedecdf4e40e1c4b'), HexBytes('0x2bfb028a4112661178795390223b06513c5d3f27c6dbb79feea08cf9eee8b3ef'), HexBytes('0x38d3c7e005ac45e8001e99bb1a6ec6b8a0be133b20aeaedaa94ba7dfa58e6382'), HexBytes('0x1ec93b7612ee266aaef5e0bc9630f5a3c0b63f5dd498e6f06c34bad3d78c319f'), HexBytes('0x439768deb04fe7849be9a5be9f517c79f03744b96c291ba637d1a9d305b2bcdf'), HexBytes('0x95ccd8bc06f646608214f589c46505139103bfc2050aef2297bff0b8ea6ab968'), HexBytes('0xf214fc2c390e5f1accc9d57aff0129285b318373cef3df00607358f34d9dc85c'), HexBytes('0x81a16d69a7bca8febf9ae26fc150397d6690c209ebe30b373d8e6e4326b0c162'), HexBytes('0x3f32014d5f2ab4e680c0db4f205a0c82034e561e36c5de1e8d6114e678e7b10b'), HexBytes('0x15757663c95530c6ff1417cd81e73b4b7a66ef613a7f468adc74ca28fcef11c6'), HexBytes('0x58f13b23d1af758885e0340d02b47b4876543fd07bbadab9f7b6219babab9d45'), HexBytes('0x47b1b3f7af6be9a1438cf0f0a3671bc44db51411f3060d3d50f3616899363712'), HexBytes('0x3420c92b201d12361b47b620e986927d4e5b004a1a1532952ff0804a8f006a16'), HexBytes('0x81405aadaafdcab732f9cc40870c5ded477dc159aeb5903ac42844a1dcda4dfd'), HexBytes('0x02d1f03c665b97c56d208a5ad2b6858599305aab62ce2b56251f52836b286aa5')], 'transactionsRoot': HexBytes('0x1285de1c213f929e89695c1b3494c6e6dbd88f2b1fbd2366fccdb55422b26b82'), 'uncles': []})\n"
     ]
    }
   ],
   "source": [
    "last_block_metadata()"
   ]
  },
  {
   "cell_type": "code",
   "execution_count": 14,
   "metadata": {},
   "outputs": [],
   "source": [
    "# Retrieve balance from a given eth address\n",
    "def get_balance(eth_address):\n",
    "    check_sum = web3_connection.toChecksumAddress(eth_address)\n",
    "    balance = web3_connection.eth.get_balance(check_sum)\n",
    "    balance_eth = web3_connection.fromWei(balance, 'ether')\n",
    "    balance_eth = round(balance_eth, 2)\n",
    "    print(balance_eth)"
   ]
  },
  {
   "cell_type": "code",
   "execution_count": 15,
   "metadata": {},
   "outputs": [
    {
     "name": "stdout",
     "output_type": "stream",
     "text": [
      "146.64\n"
     ]
    }
   ],
   "source": [
    "get_balance('0x42907c1193762f567345de09560250c63fdae076')"
   ]
  }
 ],
 "metadata": {
  "interpreter": {
   "hash": "5691414965685999b85d6b220eebbe43ba3901eb24793557e15faede0590aab4"
  },
  "kernelspec": {
   "display_name": "Python 3.8.5 ('w3env': venv)",
   "language": "python",
   "name": "python3"
  },
  "language_info": {
   "codemirror_mode": {
    "name": "ipython",
    "version": 3
   },
   "file_extension": ".py",
   "mimetype": "text/x-python",
   "name": "python",
   "nbconvert_exporter": "python",
   "pygments_lexer": "ipython3",
   "version": "3.8.5"
  },
  "orig_nbformat": 4
 },
 "nbformat": 4,
 "nbformat_minor": 2
}
