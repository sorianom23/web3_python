{
 "cells": [
  {
   "cell_type": "code",
   "execution_count": 7,
   "metadata": {},
   "outputs": [],
   "source": [
    "import web3 as Web3\n",
    "from config import *"
   ]
  },
  {
   "cell_type": "markdown",
   "metadata": {},
   "source": [
    "### Connecting with the Ethereum Network trhough Python with Web3\n",
    "I will:\n",
    "- Initialize the connection\n",
    "- Retrieve latest block produced in the eth network\n",
    "- Retrieve balance from a given eth address"
   ]
  },
  {
   "cell_type": "code",
   "execution_count": 10,
   "metadata": {},
   "outputs": [],
   "source": [
    "# Initialize connection to the Ethereum network trhough Python\n",
    "web3_connection = Web3(Web3.HTTPProvider(node_provider)) \n",
    "\n",
    "# Function that tells us if we are connected or not\n",
    "def connection():\n",
    "    print(web3_connection.isConnected())"
   ]
  },
  {
   "cell_type": "code",
   "execution_count": 11,
   "metadata": {},
   "outputs": [
    {
     "name": "stdout",
     "output_type": "stream",
     "text": [
      "True\n"
     ]
    }
   ],
   "source": [
    "connection()"
   ]
  },
  {
   "cell_type": "code",
   "execution_count": 12,
   "metadata": {},
   "outputs": [],
   "source": [
    "# Retrieve the latest block produced by the eth network\n",
    "def last_block():\n",
    "    print(web3_connection.eth.block_number)"
   ]
  },
  {
   "cell_type": "code",
   "execution_count": 13,
   "metadata": {},
   "outputs": [
    {
     "name": "stdout",
     "output_type": "stream",
     "text": [
      "14910745\n"
     ]
    }
   ],
   "source": [
    "last_block()"
   ]
  },
  {
   "cell_type": "code",
   "execution_count": 14,
   "metadata": {},
   "outputs": [],
   "source": [
    "# Retrieve balance from a given eth address\n",
    "def get_balance(eth_address):\n",
    "    check_sum = web3_connection.toChecksumAddress(eth_address)\n",
    "    balance = web3_connection.eth.get_balance(check_sum)\n",
    "    balance_eth = web3_connection.fromWei(balance, 'ether')\n",
    "    balance_eth = round(balance_eth, 2)\n",
    "    print(balance_eth)"
   ]
  },
  {
   "cell_type": "code",
   "execution_count": 15,
   "metadata": {},
   "outputs": [
    {
     "name": "stdout",
     "output_type": "stream",
     "text": [
      "146.64\n"
     ]
    }
   ],
   "source": [
    "get_balance('0x42907c1193762f567345de09560250c63fdae076')"
   ]
  }
 ],
 "metadata": {
  "interpreter": {
   "hash": "5691414965685999b85d6b220eebbe43ba3901eb24793557e15faede0590aab4"
  },
  "kernelspec": {
   "display_name": "Python 3.8.5 ('w3env': venv)",
   "language": "python",
   "name": "python3"
  },
  "language_info": {
   "codemirror_mode": {
    "name": "ipython",
    "version": 3
   },
   "file_extension": ".py",
   "mimetype": "text/x-python",
   "name": "python",
   "nbconvert_exporter": "python",
   "pygments_lexer": "ipython3",
   "version": "3.8.5"
  },
  "orig_nbformat": 4
 },
 "nbformat": 4,
 "nbformat_minor": 2
}
